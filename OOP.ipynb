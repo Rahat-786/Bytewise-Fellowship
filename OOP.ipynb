{
 "cells": [
  {
   "cell_type": "markdown",
   "id": "82e170cf",
   "metadata": {},
   "source": [
    "# Creating a student class"
   ]
  },
  {
   "cell_type": "code",
   "execution_count": 3,
   "id": "4cab3c58",
   "metadata": {},
   "outputs": [
    {
     "name": "stdout",
     "output_type": "stream",
     "text": [
      "Alice John\n"
     ]
    }
   ],
   "source": [
    "class Student:\n",
    "    def __init__(self, fname, lname, rollno):\n",
    "        self.fname = fname\n",
    "        self.lname = lname\n",
    "        self.rollno = rollno\n",
    "        \n",
    "        \n",
    "    # Creating a function to print the full name of the student. \n",
    "    \n",
    "    def fullname(self):\n",
    "        return ('{} {}'.format(self.fname, self.lname))\n",
    "\n",
    "\n",
    "# creating an object instance.\n",
    "\n",
    "std1 = Student('Alice', 'John', 2189)\n",
    "std2 = Student('Sophie', 'Jackson', 2190)\n",
    "\n",
    "# Let's print the properties of student 1 and student 2.\n",
    "\n",
    "print(std1.fullname())"
   ]
  },
  {
   "cell_type": "code",
   "execution_count": 4,
   "id": "f588b8ad",
   "metadata": {},
   "outputs": [
    {
     "name": "stdout",
     "output_type": "stream",
     "text": [
      "Sophie Jackson\n"
     ]
    }
   ],
   "source": [
    "print(std2.fullname())"
   ]
  },
  {
   "cell_type": "markdown",
   "id": "8b66f2e9",
   "metadata": {},
   "source": [
    "# Class attributes vs Instance attribute"
   ]
  },
  {
   "cell_type": "markdown",
   "id": "c0e55c97",
   "metadata": {},
   "source": [
    "Let's consider for now that both the students belongs to the same university."
   ]
  },
  {
   "cell_type": "code",
   "execution_count": 9,
   "id": "01762c20",
   "metadata": {},
   "outputs": [
    {
     "name": "stdout",
     "output_type": "stream",
     "text": [
      "Alice John studies in University of Bath\n"
     ]
    }
   ],
   "source": [
    "class Student:\n",
    "    \n",
    "    #creating a class attribute as school_name\n",
    "    school_name = 'University of Bath'\n",
    "    \n",
    "    \n",
    "    def __init__(self, fname, lname, rollno):\n",
    "        self.fname = fname\n",
    "        self.lname = lname\n",
    "        self.rollno = rollno\n",
    "        \n",
    "        \n",
    "    # Creating a function to print the full name of the student. \n",
    "    \n",
    "    def fullname(self):\n",
    "        return ('{} {}'.format(self.fname, self.lname))\n",
    "    \n",
    "    # Creating a function to access class attribute\n",
    "    \n",
    "    def institute(self):\n",
    "        return ('{} {}'.format(self.fname, self.lname) +' studies in '+ self.school_name)\n",
    "\n",
    "\n",
    "# creating an object instance.\n",
    "\n",
    "std1 = Student('Alice', 'John', 2189)\n",
    "std2 = Student('Sophie', 'Jackson', 2190)\n",
    "\n",
    "# Let's print the properties of student 1 and student 2.\n",
    "\n",
    "print(std1.institute())"
   ]
  },
  {
   "cell_type": "markdown",
   "id": "b8d43caa",
   "metadata": {},
   "source": [
    "# Class Methods "
   ]
  },
  {
   "cell_type": "code",
   "execution_count": 15,
   "id": "65260f73",
   "metadata": {},
   "outputs": [
    {
     "name": "stdout",
     "output_type": "stream",
     "text": [
      "None\n"
     ]
    }
   ],
   "source": [
    "class Student:\n",
    "    \n",
    "    #creating a class attribute as school_name\n",
    "    school_name = 'University of Bath'\n",
    "    \n",
    "    \n",
    "    def __init__(self, fname, lname, rollno):\n",
    "        self.fname = fname\n",
    "        self.lname = lname\n",
    "        self.rollno = rollno\n",
    "        \n",
    "        \n",
    "    # Creating a function to print the full name of the student. \n",
    "    \n",
    "    def fullname(self):\n",
    "        return ('{} {}'.format(self.fname, self.lname))\n",
    "    \n",
    "    # Creating a function to access class attribute\n",
    "    \n",
    "    def institute(self):\n",
    "        return ('{} {}'.format(self.fname, self.lname) +' studies in '+ self.school_name)\n",
    "    \n",
    "    # Creating a class method\n",
    "    \n",
    "    @classmethod\n",
    "    \n",
    "    def place(cls, name):\n",
    "        cls.school_name = name\n",
    "        \n",
    "# Setting a value for class method.\n",
    "\n",
    "\n",
    "# creating an object instance.\n",
    "\n",
    "std1 = Student('Alice', 'John', 2189)\n",
    "std2 = Student('Sophie', 'Jackson', 2190)\n",
    "\n",
    "\n",
    "#printing the class mthod\n",
    "\n",
    "print(Student.place('UK'))"
   ]
  },
  {
   "cell_type": "markdown",
   "id": "8f81076e",
   "metadata": {},
   "source": [
    "# Static Method"
   ]
  },
  {
   "cell_type": "markdown",
   "id": "bd8efa52",
   "metadata": {},
   "source": [
    "Static methods only returns a value as true and false and used the condition that if a specific situation is satisfying the condition then return the number else another condition."
   ]
  },
  {
   "cell_type": "code",
   "execution_count": 18,
   "id": "84e3dab8",
   "metadata": {},
   "outputs": [
    {
     "name": "stdout",
     "output_type": "stream",
     "text": [
      "False\n"
     ]
    }
   ],
   "source": [
    "class Student:\n",
    "    \n",
    "    #creating a class attribute as school_name\n",
    "    school_name = 'University of Bath'\n",
    "    \n",
    "    \n",
    "    def __init__(self, fname, lname, rollno):\n",
    "        self.fname = fname\n",
    "        self.lname = lname\n",
    "        self.rollno = rollno\n",
    "        \n",
    "        \n",
    "    # Creating a function to print the full name of the student. \n",
    "    \n",
    "    def fullname(self):\n",
    "        return ('{} {}'.format(self.fname, self.lname))\n",
    "    \n",
    "    # Creating a function to access class attribute\n",
    "    \n",
    "    def institute(self):\n",
    "        return ('{} {}'.format(self.fname, self.lname) +' studies in '+ self.school_name)\n",
    "    \n",
    "    # Creating a class method\n",
    "    \n",
    "    @classmethod\n",
    "    \n",
    "    def place(cls, name):\n",
    "        cls.school_name = name\n",
    "        \n",
    "        \n",
    "    # Creating a static method.\n",
    "    \n",
    "    @staticmethod\n",
    "    def is_workday(day):\n",
    "        if day.weekday() == 5 or day.weekday() == 6:\n",
    "            return False\n",
    "        return True\n",
    "\n",
    "\n",
    "import datetime \n",
    "my_date = datetime.date(2023,4,2)\n",
    "print(Student.is_workday(my_date))\n",
    "\n",
    "\n",
    "\n",
    "# creating an object instance.\n",
    "\n",
    "# std1 = Student('Alice', 'John', 2189)\n",
    "# std2 = Student('Sophie', 'Jackson', 2190)\n",
    "\n"
   ]
  },
  {
   "cell_type": "code",
   "execution_count": null,
   "id": "fdcb1aaa",
   "metadata": {},
   "outputs": [],
   "source": []
  }
 ],
 "metadata": {
  "kernelspec": {
   "display_name": "Python 3 (ipykernel)",
   "language": "python",
   "name": "python3"
  },
  "language_info": {
   "codemirror_mode": {
    "name": "ipython",
    "version": 3
   },
   "file_extension": ".py",
   "mimetype": "text/x-python",
   "name": "python",
   "nbconvert_exporter": "python",
   "pygments_lexer": "ipython3",
   "version": "3.9.13"
  }
 },
 "nbformat": 4,
 "nbformat_minor": 5
}
